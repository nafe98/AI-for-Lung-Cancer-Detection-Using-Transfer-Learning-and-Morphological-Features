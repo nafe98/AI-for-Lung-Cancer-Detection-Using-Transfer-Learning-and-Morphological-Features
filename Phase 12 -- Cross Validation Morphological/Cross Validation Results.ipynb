{
 "cells": [
  {
   "cell_type": "markdown",
   "id": "b9d4e64b",
   "metadata": {},
   "source": [
    "# Importing Libraries for Data Engineering"
   ]
  },
  {
   "cell_type": "code",
   "execution_count": 1,
   "id": "a085cbf8",
   "metadata": {},
   "outputs": [],
   "source": [
    "import time\n",
    "import os\n",
    "import numpy as np\n",
    "import pandas as pd\n",
    "import matplotlib.pyplot as plt\n",
    "import seaborn as sns\n",
    "from sklearn.model_selection import train_test_split\n",
    "from sklearn.metrics import confusion_matrix, f1_score, accuracy_score, classification_report"
   ]
  },
  {
   "cell_type": "markdown",
   "id": "6014d550",
   "metadata": {},
   "source": [
    "# Loading Dataset"
   ]
  },
  {
   "cell_type": "code",
   "execution_count": 2,
   "id": "e0a290f3",
   "metadata": {},
   "outputs": [
    {
     "data": {
      "text/html": [
       "<div>\n",
       "<style scoped>\n",
       "    .dataframe tbody tr th:only-of-type {\n",
       "        vertical-align: middle;\n",
       "    }\n",
       "\n",
       "    .dataframe tbody tr th {\n",
       "        vertical-align: top;\n",
       "    }\n",
       "\n",
       "    .dataframe thead th {\n",
       "        text-align: right;\n",
       "    }\n",
       "</style>\n",
       "<table border=\"1\" class=\"dataframe\">\n",
       "  <thead>\n",
       "    <tr style=\"text-align: right;\">\n",
       "      <th></th>\n",
       "      <th>Feature 1</th>\n",
       "      <th>Feature 2</th>\n",
       "      <th>Feature 3</th>\n",
       "      <th>Feature 4</th>\n",
       "      <th>Classification</th>\n",
       "    </tr>\n",
       "  </thead>\n",
       "  <tbody>\n",
       "    <tr>\n",
       "      <th>1188</th>\n",
       "      <td>0.264620</td>\n",
       "      <td>0.000000</td>\n",
       "      <td>0.000000</td>\n",
       "      <td>0.0000</td>\n",
       "      <td>2</td>\n",
       "    </tr>\n",
       "    <tr>\n",
       "      <th>1789</th>\n",
       "      <td>0.264620</td>\n",
       "      <td>0.000000</td>\n",
       "      <td>0.000000</td>\n",
       "      <td>0.0000</td>\n",
       "      <td>2</td>\n",
       "    </tr>\n",
       "    <tr>\n",
       "      <th>2566</th>\n",
       "      <td>0.264620</td>\n",
       "      <td>0.000000</td>\n",
       "      <td>0.000000</td>\n",
       "      <td>0.0000</td>\n",
       "      <td>2</td>\n",
       "    </tr>\n",
       "    <tr>\n",
       "      <th>3351</th>\n",
       "      <td>2.646203</td>\n",
       "      <td>2.381053</td>\n",
       "      <td>0.773102</td>\n",
       "      <td>4.0482</td>\n",
       "      <td>2</td>\n",
       "    </tr>\n",
       "    <tr>\n",
       "      <th>2897</th>\n",
       "      <td>0.264620</td>\n",
       "      <td>0.000000</td>\n",
       "      <td>0.000000</td>\n",
       "      <td>0.0000</td>\n",
       "      <td>2</td>\n",
       "    </tr>\n",
       "  </tbody>\n",
       "</table>\n",
       "</div>"
      ],
      "text/plain": [
       "      Feature 1  Feature 2  Feature 3  Feature 4  Classification\n",
       "1188   0.264620   0.000000   0.000000     0.0000               2\n",
       "1789   0.264620   0.000000   0.000000     0.0000               2\n",
       "2566   0.264620   0.000000   0.000000     0.0000               2\n",
       "3351   2.646203   2.381053   0.773102     4.0482               2\n",
       "2897   0.264620   0.000000   0.000000     0.0000               2"
      ]
     },
     "execution_count": 2,
     "metadata": {},
     "output_type": "execute_result"
    }
   ],
   "source": [
    "train_data = pd.read_excel('train.xlsx')\n",
    "train_data.sample(5)"
   ]
  },
  {
   "cell_type": "code",
   "execution_count": 3,
   "id": "ceb43499",
   "metadata": {},
   "outputs": [
    {
     "name": "stdout",
     "output_type": "stream",
     "text": [
      "Unique Dependent values and their counts :\n",
      "2    3572\n",
      "1     448\n",
      "3     339\n",
      "Name: Classification, dtype: int64\n"
     ]
    }
   ],
   "source": [
    "print(\"Unique Dependent values and their counts :\")\n",
    "print(train_data[\"Classification\"].value_counts())"
   ]
  },
  {
   "cell_type": "code",
   "execution_count": 4,
   "id": "a7103d90",
   "metadata": {},
   "outputs": [
    {
     "data": {
      "text/html": [
       "<div>\n",
       "<style scoped>\n",
       "    .dataframe tbody tr th:only-of-type {\n",
       "        vertical-align: middle;\n",
       "    }\n",
       "\n",
       "    .dataframe tbody tr th {\n",
       "        vertical-align: top;\n",
       "    }\n",
       "\n",
       "    .dataframe thead th {\n",
       "        text-align: right;\n",
       "    }\n",
       "</style>\n",
       "<table border=\"1\" class=\"dataframe\">\n",
       "  <thead>\n",
       "    <tr style=\"text-align: right;\">\n",
       "      <th></th>\n",
       "      <th>Feature 1</th>\n",
       "      <th>Feature 2</th>\n",
       "      <th>Feature 3</th>\n",
       "      <th>Feature 4</th>\n",
       "      <th>Classification</th>\n",
       "    </tr>\n",
       "  </thead>\n",
       "  <tbody>\n",
       "    <tr>\n",
       "      <th>307</th>\n",
       "      <td>1.0</td>\n",
       "      <td>0.000</td>\n",
       "      <td>0.000000</td>\n",
       "      <td>0.000000</td>\n",
       "      <td>2</td>\n",
       "    </tr>\n",
       "    <tr>\n",
       "      <th>608</th>\n",
       "      <td>8.0</td>\n",
       "      <td>13.398</td>\n",
       "      <td>0.851487</td>\n",
       "      <td>11.219150</td>\n",
       "      <td>2</td>\n",
       "    </tr>\n",
       "    <tr>\n",
       "      <th>243</th>\n",
       "      <td>2.0</td>\n",
       "      <td>1.960</td>\n",
       "      <td>0.866025</td>\n",
       "      <td>0.960400</td>\n",
       "      <td>2</td>\n",
       "    </tr>\n",
       "    <tr>\n",
       "      <th>287</th>\n",
       "      <td>11.0</td>\n",
       "      <td>15.366</td>\n",
       "      <td>0.968783</td>\n",
       "      <td>10.732453</td>\n",
       "      <td>2</td>\n",
       "    </tr>\n",
       "    <tr>\n",
       "      <th>851</th>\n",
       "      <td>86.0</td>\n",
       "      <td>59.198</td>\n",
       "      <td>0.879203</td>\n",
       "      <td>20.374437</td>\n",
       "      <td>2</td>\n",
       "    </tr>\n",
       "  </tbody>\n",
       "</table>\n",
       "</div>"
      ],
      "text/plain": [
       "     Feature 1  Feature 2  Feature 3  Feature 4  Classification\n",
       "307        1.0      0.000   0.000000   0.000000               2\n",
       "608        8.0     13.398   0.851487  11.219150               2\n",
       "243        2.0      1.960   0.866025   0.960400               2\n",
       "287       11.0     15.366   0.968783  10.732453               2\n",
       "851       86.0     59.198   0.879203  20.374437               2"
      ]
     },
     "execution_count": 4,
     "metadata": {},
     "output_type": "execute_result"
    }
   ],
   "source": [
    "test_data = pd.read_excel('test.xlsx')\n",
    "test_data.sample(5)"
   ]
  },
  {
   "cell_type": "code",
   "execution_count": 5,
   "id": "088c1f45",
   "metadata": {},
   "outputs": [
    {
     "name": "stdout",
     "output_type": "stream",
     "text": [
      "Unique Dependent values and their counts :\n",
      "2    925\n",
      "1    113\n",
      "3     88\n",
      "Name: Classification, dtype: int64\n"
     ]
    }
   ],
   "source": [
    "print(\"Unique Dependent values and their counts :\")\n",
    "print(test_data[\"Classification\"].value_counts())"
   ]
  },
  {
   "cell_type": "code",
   "execution_count": 6,
   "id": "d94ef60d",
   "metadata": {},
   "outputs": [
    {
     "data": {
      "text/plain": [
       "(4359, 5)"
      ]
     },
     "execution_count": 6,
     "metadata": {},
     "output_type": "execute_result"
    }
   ],
   "source": [
    "train_data.shape"
   ]
  },
  {
   "cell_type": "code",
   "execution_count": 7,
   "id": "56301345",
   "metadata": {},
   "outputs": [
    {
     "data": {
      "text/plain": [
       "(1126, 5)"
      ]
     },
     "execution_count": 7,
     "metadata": {},
     "output_type": "execute_result"
    }
   ],
   "source": [
    "test_data.shape"
   ]
  },
  {
   "cell_type": "code",
   "execution_count": null,
   "id": "fc5bb7a3",
   "metadata": {},
   "outputs": [],
   "source": []
  },
  {
   "cell_type": "code",
   "execution_count": 8,
   "id": "d6d6e6f5",
   "metadata": {},
   "outputs": [],
   "source": [
    "import pandas as pd\n",
    "\n",
    "# Assuming you have two DataFrames: train_data and test_data\n",
    "\n",
    "# Concatenate the two DataFrames vertically (along rows) and reset the index\n",
    "concatenated_data = pd.concat([train_data, test_data], axis=0).reset_index(drop=True)\n",
    "\n",
    "# Now, concatenated_data contains both datasets with a new index\n"
   ]
  },
  {
   "cell_type": "code",
   "execution_count": 9,
   "id": "5279c5e7",
   "metadata": {
    "scrolled": true
   },
   "outputs": [
    {
     "data": {
      "text/html": [
       "<div>\n",
       "<style scoped>\n",
       "    .dataframe tbody tr th:only-of-type {\n",
       "        vertical-align: middle;\n",
       "    }\n",
       "\n",
       "    .dataframe tbody tr th {\n",
       "        vertical-align: top;\n",
       "    }\n",
       "\n",
       "    .dataframe thead th {\n",
       "        text-align: right;\n",
       "    }\n",
       "</style>\n",
       "<table border=\"1\" class=\"dataframe\">\n",
       "  <thead>\n",
       "    <tr style=\"text-align: right;\">\n",
       "      <th></th>\n",
       "      <th>Feature 1</th>\n",
       "      <th>Feature 2</th>\n",
       "      <th>Feature 3</th>\n",
       "      <th>Feature 4</th>\n",
       "      <th>Classification</th>\n",
       "    </tr>\n",
       "  </thead>\n",
       "  <tbody>\n",
       "    <tr>\n",
       "      <th>0</th>\n",
       "      <td>2092.087854</td>\n",
       "      <td>23.806033</td>\n",
       "      <td>0.572817</td>\n",
       "      <td>0.511848</td>\n",
       "      <td>1</td>\n",
       "    </tr>\n",
       "    <tr>\n",
       "      <th>1</th>\n",
       "      <td>2921.937020</td>\n",
       "      <td>11.507012</td>\n",
       "      <td>0.690520</td>\n",
       "      <td>0.085625</td>\n",
       "      <td>1</td>\n",
       "    </tr>\n",
       "    <tr>\n",
       "      <th>2</th>\n",
       "      <td>3726.911881</td>\n",
       "      <td>95.744377</td>\n",
       "      <td>0.664582</td>\n",
       "      <td>4.647553</td>\n",
       "      <td>1</td>\n",
       "    </tr>\n",
       "    <tr>\n",
       "      <th>3</th>\n",
       "      <td>2371.526859</td>\n",
       "      <td>90.953427</td>\n",
       "      <td>0.377896</td>\n",
       "      <td>6.591086</td>\n",
       "      <td>1</td>\n",
       "    </tr>\n",
       "    <tr>\n",
       "      <th>4</th>\n",
       "      <td>2900.767399</td>\n",
       "      <td>11.507012</td>\n",
       "      <td>0.690680</td>\n",
       "      <td>0.086250</td>\n",
       "      <td>1</td>\n",
       "    </tr>\n",
       "    <tr>\n",
       "      <th>...</th>\n",
       "      <td>...</td>\n",
       "      <td>...</td>\n",
       "      <td>...</td>\n",
       "      <td>...</td>\n",
       "      <td>...</td>\n",
       "    </tr>\n",
       "    <tr>\n",
       "      <th>5480</th>\n",
       "      <td>5393.754962</td>\n",
       "      <td>147.720561</td>\n",
       "      <td>0.430699</td>\n",
       "      <td>7.644297</td>\n",
       "      <td>3</td>\n",
       "    </tr>\n",
       "    <tr>\n",
       "      <th>5481</th>\n",
       "      <td>5394.813443</td>\n",
       "      <td>147.720561</td>\n",
       "      <td>0.433569</td>\n",
       "      <td>7.642798</td>\n",
       "      <td>3</td>\n",
       "    </tr>\n",
       "    <tr>\n",
       "      <th>5482</th>\n",
       "      <td>5422.069331</td>\n",
       "      <td>147.720561</td>\n",
       "      <td>0.433508</td>\n",
       "      <td>7.604379</td>\n",
       "      <td>3</td>\n",
       "    </tr>\n",
       "    <tr>\n",
       "      <th>5483</th>\n",
       "      <td>5410.955279</td>\n",
       "      <td>147.720561</td>\n",
       "      <td>0.432639</td>\n",
       "      <td>7.619998</td>\n",
       "      <td>3</td>\n",
       "    </tr>\n",
       "    <tr>\n",
       "      <th>5484</th>\n",
       "      <td>5412.278381</td>\n",
       "      <td>147.720561</td>\n",
       "      <td>0.433231</td>\n",
       "      <td>7.618135</td>\n",
       "      <td>3</td>\n",
       "    </tr>\n",
       "  </tbody>\n",
       "</table>\n",
       "<p>5485 rows × 5 columns</p>\n",
       "</div>"
      ],
      "text/plain": [
       "        Feature 1   Feature 2  Feature 3  Feature 4  Classification\n",
       "0     2092.087854   23.806033   0.572817   0.511848               1\n",
       "1     2921.937020   11.507012   0.690520   0.085625               1\n",
       "2     3726.911881   95.744377   0.664582   4.647553               1\n",
       "3     2371.526859   90.953427   0.377896   6.591086               1\n",
       "4     2900.767399   11.507012   0.690680   0.086250               1\n",
       "...           ...         ...        ...        ...             ...\n",
       "5480  5393.754962  147.720561   0.430699   7.644297               3\n",
       "5481  5394.813443  147.720561   0.433569   7.642798               3\n",
       "5482  5422.069331  147.720561   0.433508   7.604379               3\n",
       "5483  5410.955279  147.720561   0.432639   7.619998               3\n",
       "5484  5412.278381  147.720561   0.433231   7.618135               3\n",
       "\n",
       "[5485 rows x 5 columns]"
      ]
     },
     "execution_count": 9,
     "metadata": {},
     "output_type": "execute_result"
    }
   ],
   "source": [
    "concatenated_data"
   ]
  },
  {
   "cell_type": "code",
   "execution_count": null,
   "id": "955fa410",
   "metadata": {},
   "outputs": [],
   "source": []
  },
  {
   "cell_type": "code",
   "execution_count": 10,
   "id": "f05ec353",
   "metadata": {},
   "outputs": [],
   "source": [
    "# Assuming concatenated_data is your concatenated DataFrame\n",
    "X = concatenated_data.iloc[:, :-1]  # All columns except the last one\n",
    "y = concatenated_data.iloc[:, -1]   # The last column\n",
    "\n",
    "# Now you have X as your features and y as your target variable\n"
   ]
  },
  {
   "cell_type": "code",
   "execution_count": 11,
   "id": "85a3e0fc",
   "metadata": {},
   "outputs": [
    {
     "data": {
      "text/html": [
       "<div>\n",
       "<style scoped>\n",
       "    .dataframe tbody tr th:only-of-type {\n",
       "        vertical-align: middle;\n",
       "    }\n",
       "\n",
       "    .dataframe tbody tr th {\n",
       "        vertical-align: top;\n",
       "    }\n",
       "\n",
       "    .dataframe thead th {\n",
       "        text-align: right;\n",
       "    }\n",
       "</style>\n",
       "<table border=\"1\" class=\"dataframe\">\n",
       "  <thead>\n",
       "    <tr style=\"text-align: right;\">\n",
       "      <th></th>\n",
       "      <th>Feature 1</th>\n",
       "      <th>Feature 2</th>\n",
       "      <th>Feature 3</th>\n",
       "      <th>Feature 4</th>\n",
       "    </tr>\n",
       "  </thead>\n",
       "  <tbody>\n",
       "    <tr>\n",
       "      <th>0</th>\n",
       "      <td>2092.087854</td>\n",
       "      <td>23.806033</td>\n",
       "      <td>0.572817</td>\n",
       "      <td>0.511848</td>\n",
       "    </tr>\n",
       "    <tr>\n",
       "      <th>1</th>\n",
       "      <td>2921.937020</td>\n",
       "      <td>11.507012</td>\n",
       "      <td>0.690520</td>\n",
       "      <td>0.085625</td>\n",
       "    </tr>\n",
       "    <tr>\n",
       "      <th>2</th>\n",
       "      <td>3726.911881</td>\n",
       "      <td>95.744377</td>\n",
       "      <td>0.664582</td>\n",
       "      <td>4.647553</td>\n",
       "    </tr>\n",
       "    <tr>\n",
       "      <th>3</th>\n",
       "      <td>2371.526859</td>\n",
       "      <td>90.953427</td>\n",
       "      <td>0.377896</td>\n",
       "      <td>6.591086</td>\n",
       "    </tr>\n",
       "    <tr>\n",
       "      <th>4</th>\n",
       "      <td>2900.767399</td>\n",
       "      <td>11.507012</td>\n",
       "      <td>0.690680</td>\n",
       "      <td>0.086250</td>\n",
       "    </tr>\n",
       "    <tr>\n",
       "      <th>...</th>\n",
       "      <td>...</td>\n",
       "      <td>...</td>\n",
       "      <td>...</td>\n",
       "      <td>...</td>\n",
       "    </tr>\n",
       "    <tr>\n",
       "      <th>5480</th>\n",
       "      <td>5393.754962</td>\n",
       "      <td>147.720561</td>\n",
       "      <td>0.430699</td>\n",
       "      <td>7.644297</td>\n",
       "    </tr>\n",
       "    <tr>\n",
       "      <th>5481</th>\n",
       "      <td>5394.813443</td>\n",
       "      <td>147.720561</td>\n",
       "      <td>0.433569</td>\n",
       "      <td>7.642798</td>\n",
       "    </tr>\n",
       "    <tr>\n",
       "      <th>5482</th>\n",
       "      <td>5422.069331</td>\n",
       "      <td>147.720561</td>\n",
       "      <td>0.433508</td>\n",
       "      <td>7.604379</td>\n",
       "    </tr>\n",
       "    <tr>\n",
       "      <th>5483</th>\n",
       "      <td>5410.955279</td>\n",
       "      <td>147.720561</td>\n",
       "      <td>0.432639</td>\n",
       "      <td>7.619998</td>\n",
       "    </tr>\n",
       "    <tr>\n",
       "      <th>5484</th>\n",
       "      <td>5412.278381</td>\n",
       "      <td>147.720561</td>\n",
       "      <td>0.433231</td>\n",
       "      <td>7.618135</td>\n",
       "    </tr>\n",
       "  </tbody>\n",
       "</table>\n",
       "<p>5485 rows × 4 columns</p>\n",
       "</div>"
      ],
      "text/plain": [
       "        Feature 1   Feature 2  Feature 3  Feature 4\n",
       "0     2092.087854   23.806033   0.572817   0.511848\n",
       "1     2921.937020   11.507012   0.690520   0.085625\n",
       "2     3726.911881   95.744377   0.664582   4.647553\n",
       "3     2371.526859   90.953427   0.377896   6.591086\n",
       "4     2900.767399   11.507012   0.690680   0.086250\n",
       "...           ...         ...        ...        ...\n",
       "5480  5393.754962  147.720561   0.430699   7.644297\n",
       "5481  5394.813443  147.720561   0.433569   7.642798\n",
       "5482  5422.069331  147.720561   0.433508   7.604379\n",
       "5483  5410.955279  147.720561   0.432639   7.619998\n",
       "5484  5412.278381  147.720561   0.433231   7.618135\n",
       "\n",
       "[5485 rows x 4 columns]"
      ]
     },
     "execution_count": 11,
     "metadata": {},
     "output_type": "execute_result"
    }
   ],
   "source": [
    "X"
   ]
  },
  {
   "cell_type": "code",
   "execution_count": 12,
   "id": "8f54d8e2",
   "metadata": {},
   "outputs": [
    {
     "data": {
      "text/plain": [
       "0       1\n",
       "1       1\n",
       "2       1\n",
       "3       1\n",
       "4       1\n",
       "       ..\n",
       "5480    3\n",
       "5481    3\n",
       "5482    3\n",
       "5483    3\n",
       "5484    3\n",
       "Name: Classification, Length: 5485, dtype: int64"
      ]
     },
     "execution_count": 12,
     "metadata": {},
     "output_type": "execute_result"
    }
   ],
   "source": [
    "y"
   ]
  },
  {
   "cell_type": "markdown",
   "id": "71524349",
   "metadata": {},
   "source": [
    "# Importing Libraries "
   ]
  },
  {
   "cell_type": "code",
   "execution_count": 13,
   "id": "e673abf1",
   "metadata": {},
   "outputs": [],
   "source": [
    "from sklearn.linear_model import LogisticRegression\n",
    "from sklearn.tree import DecisionTreeClassifier\n",
    "from sklearn.ensemble import RandomForestClassifier, ExtraTreesClassifier, AdaBoostClassifier, GradientBoostingClassifier\n",
    "from sklearn.svm import SVC\n",
    "from sklearn.neighbors import KNeighborsClassifier\n",
    "from xgboost import XGBClassifier\n",
    "\n",
    "import time\n",
    "from sklearn.model_selection import KFold"
   ]
  },
  {
   "cell_type": "markdown",
   "id": "742983ae",
   "metadata": {},
   "source": [
    "# Converting Numpy Arrays to Pandas DataFrames for Sensor and Position Data"
   ]
  },
  {
   "cell_type": "code",
   "execution_count": 14,
   "id": "343d8ecd",
   "metadata": {},
   "outputs": [],
   "source": [
    "X = X\n",
    "y = y\n",
    "\n",
    "# convert numpy array into pandas dataframe\n",
    "X = pd.DataFrame(X)\n",
    "y = pd.DataFrame(y)"
   ]
  },
  {
   "cell_type": "markdown",
   "id": "48177b48",
   "metadata": {},
   "source": [
    "# Define models"
   ]
  },
  {
   "cell_type": "code",
   "execution_count": 15,
   "id": "91398b95",
   "metadata": {},
   "outputs": [],
   "source": [
    "models = [\n",
    "    LogisticRegression(),\n",
    "    DecisionTreeClassifier(),\n",
    "    RandomForestClassifier(),\n",
    "    ExtraTreesClassifier(),\n",
    "    AdaBoostClassifier(),\n",
    "    GradientBoostingClassifier(),\n",
    "    SVC(),\n",
    "    KNeighborsClassifier(),\n",
    "    XGBClassifier()\n",
    "]"
   ]
  },
  {
   "cell_type": "markdown",
   "id": "a36c327c",
   "metadata": {},
   "source": [
    "# Define k-fold cross-validation"
   ]
  },
  {
   "cell_type": "code",
   "execution_count": 16,
   "id": "205d50b2",
   "metadata": {},
   "outputs": [],
   "source": [
    "kfold = KFold(n_splits=5, shuffle=True, random_state=42)"
   ]
  },
  {
   "cell_type": "markdown",
   "id": "d5324bb9",
   "metadata": {},
   "source": [
    "# Create empty dictionary to store the results"
   ]
  },
  {
   "cell_type": "code",
   "execution_count": 17,
   "id": "10ad4157",
   "metadata": {},
   "outputs": [],
   "source": [
    "results_dict = {\n",
    "    \"Model\": [],\n",
    "    \"Fold\": [],\n",
    "    \"Accuracy\": [],\n",
    "    \"F1 Score\": [],\n",
    "    \"Recall\": [],\n",
    "    \"Precision\": [],\n",
    "    \"Time taken\": []\n",
    "}"
   ]
  },
  {
   "cell_type": "markdown",
   "id": "933be669",
   "metadata": {},
   "source": [
    "# Train and evaluate each model using k-fold cross-validation"
   ]
  },
  {
   "cell_type": "code",
   "execution_count": 18,
   "id": "f4fa21bc",
   "metadata": {},
   "outputs": [
    {
     "name": "stderr",
     "output_type": "stream",
     "text": [
      "C:\\Users\\nafem\\anaconda3\\envs\\gpu\\lib\\site-packages\\sklearn\\utils\\validation.py:1111: DataConversionWarning: A column-vector y was passed when a 1d array was expected. Please change the shape of y to (n_samples, ), for example using ravel().\n",
      "  y = column_or_1d(y, warn=True)\n",
      "C:\\Users\\nafem\\anaconda3\\envs\\gpu\\lib\\site-packages\\sklearn\\linear_model\\_logistic.py:444: ConvergenceWarning: lbfgs failed to converge (status=1):\n",
      "STOP: TOTAL NO. of ITERATIONS REACHED LIMIT.\n",
      "\n",
      "Increase the number of iterations (max_iter) or scale the data as shown in:\n",
      "    https://scikit-learn.org/stable/modules/preprocessing.html\n",
      "Please also refer to the documentation for alternative solver options:\n",
      "    https://scikit-learn.org/stable/modules/linear_model.html#logistic-regression\n",
      "  n_iter_i = _check_optimize_result(\n",
      "C:\\Users\\nafem\\anaconda3\\envs\\gpu\\lib\\site-packages\\sklearn\\utils\\validation.py:1111: DataConversionWarning: A column-vector y was passed when a 1d array was expected. Please change the shape of y to (n_samples, ), for example using ravel().\n",
      "  y = column_or_1d(y, warn=True)\n",
      "C:\\Users\\nafem\\anaconda3\\envs\\gpu\\lib\\site-packages\\sklearn\\linear_model\\_logistic.py:444: ConvergenceWarning: lbfgs failed to converge (status=1):\n",
      "STOP: TOTAL NO. of ITERATIONS REACHED LIMIT.\n",
      "\n",
      "Increase the number of iterations (max_iter) or scale the data as shown in:\n",
      "    https://scikit-learn.org/stable/modules/preprocessing.html\n",
      "Please also refer to the documentation for alternative solver options:\n",
      "    https://scikit-learn.org/stable/modules/linear_model.html#logistic-regression\n",
      "  n_iter_i = _check_optimize_result(\n",
      "C:\\Users\\nafem\\anaconda3\\envs\\gpu\\lib\\site-packages\\sklearn\\utils\\validation.py:1111: DataConversionWarning: A column-vector y was passed when a 1d array was expected. Please change the shape of y to (n_samples, ), for example using ravel().\n",
      "  y = column_or_1d(y, warn=True)\n",
      "C:\\Users\\nafem\\anaconda3\\envs\\gpu\\lib\\site-packages\\sklearn\\linear_model\\_logistic.py:444: ConvergenceWarning: lbfgs failed to converge (status=1):\n",
      "STOP: TOTAL NO. of ITERATIONS REACHED LIMIT.\n",
      "\n",
      "Increase the number of iterations (max_iter) or scale the data as shown in:\n",
      "    https://scikit-learn.org/stable/modules/preprocessing.html\n",
      "Please also refer to the documentation for alternative solver options:\n",
      "    https://scikit-learn.org/stable/modules/linear_model.html#logistic-regression\n",
      "  n_iter_i = _check_optimize_result(\n",
      "C:\\Users\\nafem\\anaconda3\\envs\\gpu\\lib\\site-packages\\sklearn\\utils\\validation.py:1111: DataConversionWarning: A column-vector y was passed when a 1d array was expected. Please change the shape of y to (n_samples, ), for example using ravel().\n",
      "  y = column_or_1d(y, warn=True)\n",
      "C:\\Users\\nafem\\anaconda3\\envs\\gpu\\lib\\site-packages\\sklearn\\linear_model\\_logistic.py:444: ConvergenceWarning: lbfgs failed to converge (status=1):\n",
      "STOP: TOTAL NO. of ITERATIONS REACHED LIMIT.\n",
      "\n",
      "Increase the number of iterations (max_iter) or scale the data as shown in:\n",
      "    https://scikit-learn.org/stable/modules/preprocessing.html\n",
      "Please also refer to the documentation for alternative solver options:\n",
      "    https://scikit-learn.org/stable/modules/linear_model.html#logistic-regression\n",
      "  n_iter_i = _check_optimize_result(\n",
      "C:\\Users\\nafem\\anaconda3\\envs\\gpu\\lib\\site-packages\\sklearn\\utils\\validation.py:1111: DataConversionWarning: A column-vector y was passed when a 1d array was expected. Please change the shape of y to (n_samples, ), for example using ravel().\n",
      "  y = column_or_1d(y, warn=True)\n",
      "C:\\Users\\nafem\\anaconda3\\envs\\gpu\\lib\\site-packages\\sklearn\\linear_model\\_logistic.py:444: ConvergenceWarning: lbfgs failed to converge (status=1):\n",
      "STOP: TOTAL NO. of ITERATIONS REACHED LIMIT.\n",
      "\n",
      "Increase the number of iterations (max_iter) or scale the data as shown in:\n",
      "    https://scikit-learn.org/stable/modules/preprocessing.html\n",
      "Please also refer to the documentation for alternative solver options:\n",
      "    https://scikit-learn.org/stable/modules/linear_model.html#logistic-regression\n",
      "  n_iter_i = _check_optimize_result(\n"
     ]
    },
    {
     "name": "stdout",
     "output_type": "stream",
     "text": [
      "Model: LogisticRegression\n",
      "Fold 1 - Accuracy: 1.00\n",
      "Fold 1 - F1 Score: 0.99\n",
      "Fold 1 - Recall: 0.99\n",
      "Fold 1 - Precision: 0.99\n",
      "Fold 1 - Time taken: 0.04 seconds\n",
      "Model: LogisticRegression\n",
      "Fold 2 - Accuracy: 1.00\n",
      "Fold 2 - F1 Score: 0.99\n",
      "Fold 2 - Recall: 0.98\n",
      "Fold 2 - Precision: 0.99\n",
      "Fold 2 - Time taken: 0.04 seconds\n",
      "Model: LogisticRegression\n",
      "Fold 3 - Accuracy: 1.00\n",
      "Fold 3 - F1 Score: 0.99\n",
      "Fold 3 - Recall: 0.99\n",
      "Fold 3 - Precision: 0.99\n",
      "Fold 3 - Time taken: 0.04 seconds\n",
      "Model: LogisticRegression\n",
      "Fold 4 - Accuracy: 0.99\n",
      "Fold 4 - F1 Score: 0.99\n",
      "Fold 4 - Recall: 0.98\n",
      "Fold 4 - Precision: 0.99\n",
      "Fold 4 - Time taken: 0.04 seconds\n",
      "Model: LogisticRegression\n",
      "Fold 5 - Accuracy: 1.00\n",
      "Fold 5 - F1 Score: 0.99\n",
      "Fold 5 - Recall: 0.98\n",
      "Fold 5 - Precision: 0.99\n",
      "Fold 5 - Time taken: 0.04 seconds\n",
      "Model: LogisticRegression\n",
      "Mean - Accuracy: 1.00\n",
      "Mean - F1 Score: 0.99\n",
      "Mean - Recall: 0.99\n",
      "Mean - Precision: 0.99\n",
      "Mean - Time taken: 0.04 seconds\n",
      "Model: DecisionTreeClassifier\n",
      "Fold 1 - Accuracy: 1.00\n",
      "Fold 1 - F1 Score: 1.00\n",
      "Fold 1 - Recall: 1.00\n",
      "Fold 1 - Precision: 1.00\n",
      "Fold 1 - Time taken: 0.00 seconds\n",
      "Model: DecisionTreeClassifier\n",
      "Fold 2 - Accuracy: 1.00\n",
      "Fold 2 - F1 Score: 0.99\n",
      "Fold 2 - Recall: 0.99\n",
      "Fold 2 - Precision: 1.00\n",
      "Fold 2 - Time taken: 0.00 seconds\n",
      "Model: DecisionTreeClassifier\n",
      "Fold 3 - Accuracy: 1.00\n",
      "Fold 3 - F1 Score: 0.99\n",
      "Fold 3 - Recall: 0.99\n",
      "Fold 3 - Precision: 1.00\n",
      "Fold 3 - Time taken: 0.00 seconds\n",
      "Model: DecisionTreeClassifier\n",
      "Fold 4 - Accuracy: 1.00\n",
      "Fold 4 - F1 Score: 0.99\n",
      "Fold 4 - Recall: 0.99\n",
      "Fold 4 - Precision: 1.00\n",
      "Fold 4 - Time taken: 0.00 seconds\n",
      "Model: DecisionTreeClassifier\n",
      "Fold 5 - Accuracy: 1.00\n",
      "Fold 5 - F1 Score: 0.99\n",
      "Fold 5 - Recall: 0.98\n",
      "Fold 5 - Precision: 1.00\n",
      "Fold 5 - Time taken: 0.00 seconds\n",
      "Model: DecisionTreeClassifier\n",
      "Mean - Accuracy: 1.00\n",
      "Mean - F1 Score: 0.99\n",
      "Mean - Recall: 0.99\n",
      "Mean - Precision: 1.00\n",
      "Mean - Time taken: 0.00 seconds\n"
     ]
    },
    {
     "name": "stderr",
     "output_type": "stream",
     "text": [
      "C:\\Users\\nafem\\AppData\\Local\\Temp\\ipykernel_9112\\63007713.py:34: DataConversionWarning: A column-vector y was passed when a 1d array was expected. Please change the shape of y to (n_samples,), for example using ravel().\n",
      "  model.fit(X_train_fold, y_train_fold)\n",
      "C:\\Users\\nafem\\AppData\\Local\\Temp\\ipykernel_9112\\63007713.py:34: DataConversionWarning: A column-vector y was passed when a 1d array was expected. Please change the shape of y to (n_samples,), for example using ravel().\n",
      "  model.fit(X_train_fold, y_train_fold)\n"
     ]
    },
    {
     "name": "stdout",
     "output_type": "stream",
     "text": [
      "Model: RandomForestClassifier\n",
      "Fold 1 - Accuracy: 1.00\n",
      "Fold 1 - F1 Score: 1.00\n",
      "Fold 1 - Recall: 1.00\n",
      "Fold 1 - Precision: 1.00\n",
      "Fold 1 - Time taken: 0.13 seconds\n",
      "Model: RandomForestClassifier\n",
      "Fold 2 - Accuracy: 1.00\n",
      "Fold 2 - F1 Score: 0.99\n",
      "Fold 2 - Recall: 0.99\n",
      "Fold 2 - Precision: 1.00\n",
      "Fold 2 - Time taken: 0.12 seconds\n"
     ]
    },
    {
     "name": "stderr",
     "output_type": "stream",
     "text": [
      "C:\\Users\\nafem\\AppData\\Local\\Temp\\ipykernel_9112\\63007713.py:34: DataConversionWarning: A column-vector y was passed when a 1d array was expected. Please change the shape of y to (n_samples,), for example using ravel().\n",
      "  model.fit(X_train_fold, y_train_fold)\n",
      "C:\\Users\\nafem\\AppData\\Local\\Temp\\ipykernel_9112\\63007713.py:34: DataConversionWarning: A column-vector y was passed when a 1d array was expected. Please change the shape of y to (n_samples,), for example using ravel().\n",
      "  model.fit(X_train_fold, y_train_fold)\n"
     ]
    },
    {
     "name": "stdout",
     "output_type": "stream",
     "text": [
      "Model: RandomForestClassifier\n",
      "Fold 3 - Accuracy: 1.00\n",
      "Fold 3 - F1 Score: 0.99\n",
      "Fold 3 - Recall: 0.99\n",
      "Fold 3 - Precision: 1.00\n",
      "Fold 3 - Time taken: 0.12 seconds\n",
      "Model: RandomForestClassifier\n",
      "Fold 4 - Accuracy: 1.00\n",
      "Fold 4 - F1 Score: 0.99\n",
      "Fold 4 - Recall: 0.99\n",
      "Fold 4 - Precision: 1.00\n",
      "Fold 4 - Time taken: 0.12 seconds\n"
     ]
    },
    {
     "name": "stderr",
     "output_type": "stream",
     "text": [
      "C:\\Users\\nafem\\AppData\\Local\\Temp\\ipykernel_9112\\63007713.py:34: DataConversionWarning: A column-vector y was passed when a 1d array was expected. Please change the shape of y to (n_samples,), for example using ravel().\n",
      "  model.fit(X_train_fold, y_train_fold)\n",
      "C:\\Users\\nafem\\AppData\\Local\\Temp\\ipykernel_9112\\63007713.py:34: DataConversionWarning: A column-vector y was passed when a 1d array was expected. Please change the shape of y to (n_samples,), for example using ravel().\n",
      "  model.fit(X_train_fold, y_train_fold)\n"
     ]
    },
    {
     "name": "stdout",
     "output_type": "stream",
     "text": [
      "Model: RandomForestClassifier\n",
      "Fold 5 - Accuracy: 1.00\n",
      "Fold 5 - F1 Score: 0.99\n",
      "Fold 5 - Recall: 0.98\n",
      "Fold 5 - Precision: 1.00\n",
      "Fold 5 - Time taken: 0.12 seconds\n",
      "Model: RandomForestClassifier\n",
      "Mean - Accuracy: 1.00\n",
      "Mean - F1 Score: 0.99\n",
      "Mean - Recall: 0.99\n",
      "Mean - Precision: 1.00\n",
      "Mean - Time taken: 0.12 seconds\n",
      "Model: ExtraTreesClassifier\n",
      "Fold 1 - Accuracy: 1.00\n",
      "Fold 1 - F1 Score: 1.00\n",
      "Fold 1 - Recall: 1.00\n",
      "Fold 1 - Precision: 1.00\n",
      "Fold 1 - Time taken: 0.09 seconds\n",
      "Model: ExtraTreesClassifier\n",
      "Fold 2 - Accuracy: 1.00\n",
      "Fold 2 - F1 Score: 0.99\n",
      "Fold 2 - Recall: 0.99\n",
      "Fold 2 - Precision: 1.00\n",
      "Fold 2 - Time taken: 0.09 seconds\n"
     ]
    },
    {
     "name": "stderr",
     "output_type": "stream",
     "text": [
      "C:\\Users\\nafem\\AppData\\Local\\Temp\\ipykernel_9112\\63007713.py:34: DataConversionWarning: A column-vector y was passed when a 1d array was expected. Please change the shape of y to (n_samples,), for example using ravel().\n",
      "  model.fit(X_train_fold, y_train_fold)\n",
      "C:\\Users\\nafem\\AppData\\Local\\Temp\\ipykernel_9112\\63007713.py:34: DataConversionWarning: A column-vector y was passed when a 1d array was expected. Please change the shape of y to (n_samples,), for example using ravel().\n",
      "  model.fit(X_train_fold, y_train_fold)\n",
      "C:\\Users\\nafem\\AppData\\Local\\Temp\\ipykernel_9112\\63007713.py:34: DataConversionWarning: A column-vector y was passed when a 1d array was expected. Please change the shape of y to (n_samples,), for example using ravel().\n",
      "  model.fit(X_train_fold, y_train_fold)\n"
     ]
    },
    {
     "name": "stdout",
     "output_type": "stream",
     "text": [
      "Model: ExtraTreesClassifier\n",
      "Fold 3 - Accuracy: 1.00\n",
      "Fold 3 - F1 Score: 0.99\n",
      "Fold 3 - Recall: 0.99\n",
      "Fold 3 - Precision: 1.00\n",
      "Fold 3 - Time taken: 0.09 seconds\n",
      "Model: ExtraTreesClassifier\n",
      "Fold 4 - Accuracy: 1.00\n",
      "Fold 4 - F1 Score: 0.99\n",
      "Fold 4 - Recall: 0.99\n",
      "Fold 4 - Precision: 1.00\n",
      "Fold 4 - Time taken: 0.09 seconds\n",
      "Model: ExtraTreesClassifier\n",
      "Fold 5 - Accuracy: 1.00\n",
      "Fold 5 - F1 Score: 0.99\n",
      "Fold 5 - Recall: 0.98\n",
      "Fold 5 - Precision: 1.00\n",
      "Fold 5 - Time taken: 0.09 seconds\n",
      "Model: ExtraTreesClassifier\n",
      "Mean - Accuracy: 1.00\n",
      "Mean - F1 Score: 0.99\n",
      "Mean - Recall: 0.99\n",
      "Mean - Precision: 1.00\n",
      "Mean - Time taken: 0.09 seconds\n"
     ]
    },
    {
     "name": "stderr",
     "output_type": "stream",
     "text": [
      "C:\\Users\\nafem\\AppData\\Local\\Temp\\ipykernel_9112\\63007713.py:34: DataConversionWarning: A column-vector y was passed when a 1d array was expected. Please change the shape of y to (n_samples,), for example using ravel().\n",
      "  model.fit(X_train_fold, y_train_fold)\n",
      "C:\\Users\\nafem\\anaconda3\\envs\\gpu\\lib\\site-packages\\sklearn\\utils\\validation.py:1111: DataConversionWarning: A column-vector y was passed when a 1d array was expected. Please change the shape of y to (n_samples, ), for example using ravel().\n",
      "  y = column_or_1d(y, warn=True)\n",
      "C:\\Users\\nafem\\anaconda3\\envs\\gpu\\lib\\site-packages\\sklearn\\utils\\validation.py:1111: DataConversionWarning: A column-vector y was passed when a 1d array was expected. Please change the shape of y to (n_samples, ), for example using ravel().\n",
      "  y = column_or_1d(y, warn=True)\n"
     ]
    },
    {
     "name": "stdout",
     "output_type": "stream",
     "text": [
      "Model: AdaBoostClassifier\n",
      "Fold 1 - Accuracy: 0.97\n",
      "Fold 1 - F1 Score: 0.93\n",
      "Fold 1 - Recall: 0.96\n",
      "Fold 1 - Precision: 0.91\n",
      "Fold 1 - Time taken: 0.09 seconds\n",
      "Model: AdaBoostClassifier\n",
      "Fold 2 - Accuracy: 0.98\n",
      "Fold 2 - F1 Score: 0.95\n",
      "Fold 2 - Recall: 0.98\n",
      "Fold 2 - Precision: 0.93\n",
      "Fold 2 - Time taken: 0.09 seconds\n",
      "Model: AdaBoostClassifier\n",
      "Fold 3 - Accuracy: 0.91\n",
      "Fold 3 - F1 Score: 0.58\n",
      "Fold 3 - Recall: 0.66\n",
      "Fold 3 - Precision: 0.53\n",
      "Fold 3 - Time taken: 0.09 seconds\n"
     ]
    },
    {
     "name": "stderr",
     "output_type": "stream",
     "text": [
      "C:\\Users\\nafem\\anaconda3\\envs\\gpu\\lib\\site-packages\\sklearn\\utils\\validation.py:1111: DataConversionWarning: A column-vector y was passed when a 1d array was expected. Please change the shape of y to (n_samples, ), for example using ravel().\n",
      "  y = column_or_1d(y, warn=True)\n",
      "C:\\Users\\nafem\\anaconda3\\envs\\gpu\\lib\\site-packages\\sklearn\\utils\\validation.py:1111: DataConversionWarning: A column-vector y was passed when a 1d array was expected. Please change the shape of y to (n_samples, ), for example using ravel().\n",
      "  y = column_or_1d(y, warn=True)\n"
     ]
    },
    {
     "name": "stdout",
     "output_type": "stream",
     "text": [
      "Model: AdaBoostClassifier\n",
      "Fold 4 - Accuracy: 0.99\n",
      "Fold 4 - F1 Score: 0.96\n",
      "Fold 4 - Recall: 0.96\n",
      "Fold 4 - Precision: 0.97\n",
      "Fold 4 - Time taken: 0.09 seconds\n",
      "Model: AdaBoostClassifier\n",
      "Fold 5 - Accuracy: 0.97\n",
      "Fold 5 - F1 Score: 0.91\n",
      "Fold 5 - Recall: 0.94\n",
      "Fold 5 - Precision: 0.89\n",
      "Fold 5 - Time taken: 0.09 seconds\n",
      "Model: AdaBoostClassifier\n",
      "Mean - Accuracy: 0.96\n",
      "Mean - F1 Score: 0.87\n",
      "Mean - Recall: 0.90\n",
      "Mean - Precision: 0.85\n",
      "Mean - Time taken: 0.09 seconds\n"
     ]
    },
    {
     "name": "stderr",
     "output_type": "stream",
     "text": [
      "C:\\Users\\nafem\\anaconda3\\envs\\gpu\\lib\\site-packages\\sklearn\\utils\\validation.py:1111: DataConversionWarning: A column-vector y was passed when a 1d array was expected. Please change the shape of y to (n_samples, ), for example using ravel().\n",
      "  y = column_or_1d(y, warn=True)\n",
      "C:\\Users\\nafem\\anaconda3\\envs\\gpu\\lib\\site-packages\\sklearn\\ensemble\\_gb.py:570: DataConversionWarning: A column-vector y was passed when a 1d array was expected. Please change the shape of y to (n_samples, ), for example using ravel().\n",
      "  y = column_or_1d(y, warn=True)\n"
     ]
    },
    {
     "name": "stdout",
     "output_type": "stream",
     "text": [
      "Model: GradientBoostingClassifier\n",
      "Fold 1 - Accuracy: 1.00\n",
      "Fold 1 - F1 Score: 1.00\n",
      "Fold 1 - Recall: 1.00\n",
      "Fold 1 - Precision: 1.00\n",
      "Fold 1 - Time taken: 0.54 seconds\n"
     ]
    },
    {
     "name": "stderr",
     "output_type": "stream",
     "text": [
      "C:\\Users\\nafem\\anaconda3\\envs\\gpu\\lib\\site-packages\\sklearn\\ensemble\\_gb.py:570: DataConversionWarning: A column-vector y was passed when a 1d array was expected. Please change the shape of y to (n_samples, ), for example using ravel().\n",
      "  y = column_or_1d(y, warn=True)\n"
     ]
    },
    {
     "name": "stdout",
     "output_type": "stream",
     "text": [
      "Model: GradientBoostingClassifier\n",
      "Fold 2 - Accuracy: 1.00\n",
      "Fold 2 - F1 Score: 0.99\n",
      "Fold 2 - Recall: 0.99\n",
      "Fold 2 - Precision: 1.00\n",
      "Fold 2 - Time taken: 0.56 seconds\n"
     ]
    },
    {
     "name": "stderr",
     "output_type": "stream",
     "text": [
      "C:\\Users\\nafem\\anaconda3\\envs\\gpu\\lib\\site-packages\\sklearn\\ensemble\\_gb.py:570: DataConversionWarning: A column-vector y was passed when a 1d array was expected. Please change the shape of y to (n_samples, ), for example using ravel().\n",
      "  y = column_or_1d(y, warn=True)\n"
     ]
    },
    {
     "name": "stdout",
     "output_type": "stream",
     "text": [
      "Model: GradientBoostingClassifier\n",
      "Fold 3 - Accuracy: 1.00\n",
      "Fold 3 - F1 Score: 0.99\n",
      "Fold 3 - Recall: 0.99\n",
      "Fold 3 - Precision: 1.00\n",
      "Fold 3 - Time taken: 0.57 seconds\n"
     ]
    },
    {
     "name": "stderr",
     "output_type": "stream",
     "text": [
      "C:\\Users\\nafem\\anaconda3\\envs\\gpu\\lib\\site-packages\\sklearn\\ensemble\\_gb.py:570: DataConversionWarning: A column-vector y was passed when a 1d array was expected. Please change the shape of y to (n_samples, ), for example using ravel().\n",
      "  y = column_or_1d(y, warn=True)\n"
     ]
    },
    {
     "name": "stdout",
     "output_type": "stream",
     "text": [
      "Model: GradientBoostingClassifier\n",
      "Fold 4 - Accuracy: 1.00\n",
      "Fold 4 - F1 Score: 0.99\n",
      "Fold 4 - Recall: 0.99\n",
      "Fold 4 - Precision: 1.00\n",
      "Fold 4 - Time taken: 0.56 seconds\n"
     ]
    },
    {
     "name": "stderr",
     "output_type": "stream",
     "text": [
      "C:\\Users\\nafem\\anaconda3\\envs\\gpu\\lib\\site-packages\\sklearn\\ensemble\\_gb.py:570: DataConversionWarning: A column-vector y was passed when a 1d array was expected. Please change the shape of y to (n_samples, ), for example using ravel().\n",
      "  y = column_or_1d(y, warn=True)\n"
     ]
    },
    {
     "name": "stdout",
     "output_type": "stream",
     "text": [
      "Model: GradientBoostingClassifier\n",
      "Fold 5 - Accuracy: 1.00\n",
      "Fold 5 - F1 Score: 0.99\n",
      "Fold 5 - Recall: 0.98\n",
      "Fold 5 - Precision: 1.00\n",
      "Fold 5 - Time taken: 0.56 seconds\n",
      "Model: GradientBoostingClassifier\n",
      "Mean - Accuracy: 1.00\n",
      "Mean - F1 Score: 0.99\n",
      "Mean - Recall: 0.99\n",
      "Mean - Precision: 1.00\n",
      "Mean - Time taken: 0.56 seconds\n",
      "Model: SVC\n",
      "Fold 1 - Accuracy: 1.00\n",
      "Fold 1 - F1 Score: 1.00\n",
      "Fold 1 - Recall: 1.00\n",
      "Fold 1 - Precision: 1.00\n",
      "Fold 1 - Time taken: 0.01 seconds\n",
      "Model: SVC\n",
      "Fold 2 - Accuracy: 1.00\n",
      "Fold 2 - F1 Score: 0.99\n",
      "Fold 2 - Recall: 0.99\n",
      "Fold 2 - Precision: 1.00\n",
      "Fold 2 - Time taken: 0.01 seconds\n",
      "Model: SVC\n",
      "Fold 3 - Accuracy: 1.00\n",
      "Fold 3 - F1 Score: 0.99\n",
      "Fold 3 - Recall: 0.99\n",
      "Fold 3 - Precision: 1.00\n",
      "Fold 3 - Time taken: 0.01 seconds\n",
      "Model: SVC\n",
      "Fold 4 - Accuracy: 1.00\n",
      "Fold 4 - F1 Score: 0.99\n",
      "Fold 4 - Recall: 0.99\n",
      "Fold 4 - Precision: 1.00\n",
      "Fold 4 - Time taken: 0.01 seconds\n",
      "Model: SVC\n",
      "Fold 5 - Accuracy: 1.00\n",
      "Fold 5 - F1 Score: 0.99\n",
      "Fold 5 - Recall: 0.98\n",
      "Fold 5 - Precision: 1.00\n",
      "Fold 5 - Time taken: 0.01 seconds\n",
      "Model: SVC\n",
      "Mean - Accuracy: 1.00\n",
      "Mean - F1 Score: 0.99\n",
      "Mean - Recall: 0.99\n",
      "Mean - Precision: 1.00\n",
      "Mean - Time taken: 0.01 seconds\n",
      "Model: KNeighborsClassifier\n",
      "Fold 1 - Accuracy: 1.00\n",
      "Fold 1 - F1 Score: 1.00\n",
      "Fold 1 - Recall: 1.00\n",
      "Fold 1 - Precision: 1.00\n",
      "Fold 1 - Time taken: 0.02 seconds\n",
      "Model: KNeighborsClassifier\n",
      "Fold 2 - Accuracy: 1.00\n",
      "Fold 2 - F1 Score: 0.99\n",
      "Fold 2 - Recall: 0.99\n",
      "Fold 2 - Precision: 1.00\n",
      "Fold 2 - Time taken: 0.02 seconds\n",
      "Model: KNeighborsClassifier\n",
      "Fold 3 - Accuracy: 1.00\n",
      "Fold 3 - F1 Score: 0.99\n",
      "Fold 3 - Recall: 0.99\n",
      "Fold 3 - Precision: 1.00\n",
      "Fold 3 - Time taken: 0.02 seconds\n",
      "Model: KNeighborsClassifier\n",
      "Fold 4 - Accuracy: 1.00\n",
      "Fold 4 - F1 Score: 0.99\n",
      "Fold 4 - Recall: 0.99\n",
      "Fold 4 - Precision: 1.00\n",
      "Fold 4 - Time taken: 0.02 seconds\n",
      "Model: KNeighborsClassifier\n",
      "Fold 5 - Accuracy: 1.00\n",
      "Fold 5 - F1 Score: 0.99\n",
      "Fold 5 - Recall: 0.98\n",
      "Fold 5 - Precision: 1.00\n",
      "Fold 5 - Time taken: 0.02 seconds\n",
      "Model: KNeighborsClassifier\n",
      "Mean - Accuracy: 1.00\n",
      "Mean - F1 Score: 0.99\n",
      "Mean - Recall: 0.99\n",
      "Mean - Precision: 1.00\n",
      "Mean - Time taken: 0.02 seconds\n"
     ]
    },
    {
     "name": "stderr",
     "output_type": "stream",
     "text": [
      "C:\\Users\\nafem\\anaconda3\\envs\\gpu\\lib\\site-packages\\sklearn\\utils\\validation.py:1111: DataConversionWarning: A column-vector y was passed when a 1d array was expected. Please change the shape of y to (n_samples, ), for example using ravel().\n",
      "  y = column_or_1d(y, warn=True)\n",
      "C:\\Users\\nafem\\anaconda3\\envs\\gpu\\lib\\site-packages\\sklearn\\utils\\validation.py:1111: DataConversionWarning: A column-vector y was passed when a 1d array was expected. Please change the shape of y to (n_samples, ), for example using ravel().\n",
      "  y = column_or_1d(y, warn=True)\n",
      "C:\\Users\\nafem\\anaconda3\\envs\\gpu\\lib\\site-packages\\sklearn\\utils\\validation.py:1111: DataConversionWarning: A column-vector y was passed when a 1d array was expected. Please change the shape of y to (n_samples, ), for example using ravel().\n",
      "  y = column_or_1d(y, warn=True)\n",
      "C:\\Users\\nafem\\anaconda3\\envs\\gpu\\lib\\site-packages\\sklearn\\utils\\validation.py:1111: DataConversionWarning: A column-vector y was passed when a 1d array was expected. Please change the shape of y to (n_samples, ), for example using ravel().\n",
      "  y = column_or_1d(y, warn=True)\n",
      "C:\\Users\\nafem\\anaconda3\\envs\\gpu\\lib\\site-packages\\sklearn\\utils\\validation.py:1111: DataConversionWarning: A column-vector y was passed when a 1d array was expected. Please change the shape of y to (n_samples, ), for example using ravel().\n",
      "  y = column_or_1d(y, warn=True)\n",
      "C:\\Users\\nafem\\anaconda3\\envs\\gpu\\lib\\site-packages\\sklearn\\neighbors\\_classification.py:207: DataConversionWarning: A column-vector y was passed when a 1d array was expected. Please change the shape of y to (n_samples,), for example using ravel().\n",
      "  return self._fit(X, y)\n",
      "C:\\Users\\nafem\\anaconda3\\envs\\gpu\\lib\\site-packages\\sklearn\\neighbors\\_classification.py:207: DataConversionWarning: A column-vector y was passed when a 1d array was expected. Please change the shape of y to (n_samples,), for example using ravel().\n",
      "  return self._fit(X, y)\n",
      "C:\\Users\\nafem\\anaconda3\\envs\\gpu\\lib\\site-packages\\sklearn\\neighbors\\_classification.py:207: DataConversionWarning: A column-vector y was passed when a 1d array was expected. Please change the shape of y to (n_samples,), for example using ravel().\n",
      "  return self._fit(X, y)\n",
      "C:\\Users\\nafem\\anaconda3\\envs\\gpu\\lib\\site-packages\\sklearn\\neighbors\\_classification.py:207: DataConversionWarning: A column-vector y was passed when a 1d array was expected. Please change the shape of y to (n_samples,), for example using ravel().\n",
      "  return self._fit(X, y)\n",
      "C:\\Users\\nafem\\anaconda3\\envs\\gpu\\lib\\site-packages\\sklearn\\neighbors\\_classification.py:207: DataConversionWarning: A column-vector y was passed when a 1d array was expected. Please change the shape of y to (n_samples,), for example using ravel().\n",
      "  return self._fit(X, y)\n"
     ]
    },
    {
     "name": "stdout",
     "output_type": "stream",
     "text": [
      "Model: XGBClassifier\n",
      "Fold 1 - Accuracy: 1.00\n",
      "Fold 1 - F1 Score: 1.00\n",
      "Fold 1 - Recall: 1.00\n",
      "Fold 1 - Precision: 1.00\n",
      "Fold 1 - Time taken: 0.10 seconds\n",
      "Model: XGBClassifier\n",
      "Fold 2 - Accuracy: 1.00\n",
      "Fold 2 - F1 Score: 0.99\n",
      "Fold 2 - Recall: 0.99\n",
      "Fold 2 - Precision: 1.00\n",
      "Fold 2 - Time taken: 0.09 seconds\n",
      "Model: XGBClassifier\n",
      "Fold 3 - Accuracy: 1.00\n",
      "Fold 3 - F1 Score: 0.99\n",
      "Fold 3 - Recall: 0.99\n",
      "Fold 3 - Precision: 1.00\n",
      "Fold 3 - Time taken: 0.09 seconds\n",
      "Model: XGBClassifier\n",
      "Fold 4 - Accuracy: 1.00\n",
      "Fold 4 - F1 Score: 0.99\n",
      "Fold 4 - Recall: 0.99\n",
      "Fold 4 - Precision: 1.00\n",
      "Fold 4 - Time taken: 0.09 seconds\n",
      "Model: XGBClassifier\n",
      "Fold 5 - Accuracy: 1.00\n",
      "Fold 5 - F1 Score: 0.99\n",
      "Fold 5 - Recall: 0.98\n",
      "Fold 5 - Precision: 1.00\n",
      "Fold 5 - Time taken: 0.08 seconds\n",
      "Model: XGBClassifier\n",
      "Mean - Accuracy: 1.00\n",
      "Mean - F1 Score: 0.99\n",
      "Mean - Recall: 0.99\n",
      "Mean - Precision: 1.00\n",
      "Mean - Time taken: 0.09 seconds\n"
     ]
    }
   ],
   "source": [
    "from sklearn.metrics import accuracy_score, f1_score, recall_score, precision_score\n",
    "import numpy as np\n",
    "import time\n",
    "\n",
    "# Initialize an empty dictionary to store results\n",
    "results_dict = {\n",
    "    \"Model\": [],\n",
    "    \"Fold\": [],\n",
    "    \"Accuracy\": [],\n",
    "    \"F1 Score\": [],\n",
    "    \"Recall\": [],\n",
    "    \"Precision\": [],\n",
    "    \"Time taken\": [],\n",
    "}\n",
    "\n",
    "for model in models:\n",
    "    # Evaluate the performance of the model using k-fold cross-validation\n",
    "    accuracy_scores = []\n",
    "    f1_scores = []\n",
    "    recall_scores = []\n",
    "    precision_scores = []\n",
    "    times = []\n",
    "    \n",
    "    for i, (train_index, test_index) in enumerate(kfold.split(X)):\n",
    "        start_time = time.time()\n",
    "        \n",
    "        X_train_fold, X_val_fold = X.iloc[train_index], X.iloc[test_index]\n",
    "        y_train_fold, y_val_fold = y.iloc[train_index], y.iloc[test_index]\n",
    "        \n",
    "        # Ensure that class labels in y_train_fold and y_val_fold are in [0, 1, 2]\n",
    "        y_train_fold = y_train_fold - 1  # Subtract 1 to map [1, 2, 3] to [0, 1, 2]\n",
    "        y_val_fold = y_val_fold - 1\n",
    "        \n",
    "        model.fit(X_train_fold, y_train_fold)\n",
    "        y_pred_fold = model.predict(X_val_fold)\n",
    "        \n",
    "        accuracy = accuracy_score(y_val_fold, y_pred_fold)\n",
    "        \n",
    "        # Calculate F1 score with 'macro' average for multiclass classification\n",
    "        f1 = f1_score(y_val_fold, y_pred_fold, average='macro')\n",
    "        \n",
    "        recall = recall_score(y_val_fold, y_pred_fold, average='macro')\n",
    "        precision = precision_score(y_val_fold, y_pred_fold, average='macro')\n",
    "        \n",
    "        end_time = time.time()\n",
    "        time_taken = end_time - start_time\n",
    "        \n",
    "        accuracy_scores.append(accuracy)\n",
    "        f1_scores.append(f1)\n",
    "        recall_scores.append(recall)\n",
    "        precision_scores.append(precision)\n",
    "        times.append(time_taken)\n",
    "        \n",
    "        # Add the results to the dictionary\n",
    "        results_dict[\"Model\"].append(type(model).__name__)\n",
    "        results_dict[\"Fold\"].append(i + 1)\n",
    "        results_dict[\"Accuracy\"].append(accuracy)\n",
    "        results_dict[\"F1 Score\"].append(f1)\n",
    "        results_dict[\"Recall\"].append(recall)\n",
    "        results_dict[\"Precision\"].append(precision)\n",
    "        results_dict[\"Time taken\"].append(time_taken)\n",
    "        \n",
    "        print(f\"Model: {type(model).__name__}\")\n",
    "        print(f\"Fold {i + 1} - Accuracy: {accuracy:.2f}\")\n",
    "        print(f\"Fold {i + 1} - F1 Score: {f1:.2f}\")\n",
    "        print(f\"Fold {i + 1} - Recall: {recall:.2f}\")\n",
    "        print(f\"Fold {i + 1} - Precision: {precision:.2f}\")\n",
    "        print(f\"Fold {i + 1} - Time taken: {time_taken:.2f} seconds\")\n",
    "    \n",
    "    # Calculate mean time and results for all the folds\n",
    "    mean_accuracy = np.mean(accuracy_scores)\n",
    "    mean_f1 = np.mean(f1_scores)\n",
    "    mean_recall = np.mean(recall_scores)\n",
    "    mean_precision = np.mean(precision_scores)\n",
    "    mean_time = np.mean(times)\n",
    "\n",
    "    # Add the mean results to the dictionary\n",
    "    results_dict[\"Model\"].append(type(model).__name__)\n",
    "    results_dict[\"Fold\"].append(\"Mean\")\n",
    "    results_dict[\"Accuracy\"].append(mean_accuracy)\n",
    "    results_dict[\"F1 Score\"].append(mean_f1)\n",
    "    results_dict[\"Recall\"].append(mean_recall)\n",
    "    results_dict[\"Precision\"].append(mean_precision)\n",
    "    results_dict[\"Time taken\"].append(mean_time)\n",
    "\n",
    "    print(f\"Model: {type(model).__name__}\")\n",
    "    print(f\"Mean - Accuracy: {mean_accuracy:.2f}\")\n",
    "    print(f\"Mean - F1 Score: {mean_f1:.2f}\")\n",
    "    print(f\"Mean - Recall: {mean_recall:.2f}\")\n",
    "    print(f\"Mean - Precision: {mean_precision:.2f}\")\n",
    "    print(f\"Mean - Time taken: {mean_time:.2f} seconds\")\n",
    "\n",
    "# Convert the results dictionary into a pandas dataframe\n",
    "import pandas as pd\n",
    "\n",
    "results_df = pd.DataFrame.from_dict(results_dict)\n"
   ]
  },
  {
   "cell_type": "markdown",
   "id": "f8a4f165",
   "metadata": {},
   "source": [
    "# Saving the results to an Excel file"
   ]
  },
  {
   "cell_type": "code",
   "execution_count": 19,
   "id": "0352e102",
   "metadata": {},
   "outputs": [
    {
     "name": "stdout",
     "output_type": "stream",
     "text": [
      "Results saved to Cross Validation Results.xlsx file\n"
     ]
    }
   ],
   "source": [
    "results_df.to_excel(\"Cross Validation Results.xlsx\", index=False)\n",
    "\n",
    "#Print a message indicating that the results have been saved to a file\n",
    "print(\"Results saved to Cross Validation Results.xlsx file\")"
   ]
  },
  {
   "cell_type": "code",
   "execution_count": null,
   "id": "947ee7d7",
   "metadata": {},
   "outputs": [],
   "source": []
  }
 ],
 "metadata": {
  "kernelspec": {
   "display_name": "Python 3 (ipykernel)",
   "language": "python",
   "name": "python3"
  },
  "language_info": {
   "codemirror_mode": {
    "name": "ipython",
    "version": 3
   },
   "file_extension": ".py",
   "mimetype": "text/x-python",
   "name": "python",
   "nbconvert_exporter": "python",
   "pygments_lexer": "ipython3",
   "version": "3.9.15"
  }
 },
 "nbformat": 4,
 "nbformat_minor": 5
}
