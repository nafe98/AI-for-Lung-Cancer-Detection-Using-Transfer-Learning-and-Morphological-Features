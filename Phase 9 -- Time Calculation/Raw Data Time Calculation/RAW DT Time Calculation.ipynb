{
 "cells": [
  {
   "cell_type": "markdown",
   "id": "8aaab1ed",
   "metadata": {},
   "source": [
    "https://iq.opengenus.org/basics-of-machine-learning-image-classification-techniques/\n",
    "\n",
    "https://www.geeksforgeeks.org/python-image-classification-using-keras/\n",
    "\n",
    "https://www.analyticsvidhya.com/blog/2022/01/image-classification-using-machine-learning/\n",
    "\n",
    "https://github.com/hasabo/Machine-Learning/blob/master/Python/Image_Classification%20/Image_Classification.ipynb  "
   ]
  },
  {
   "cell_type": "markdown",
   "id": "6ae78a4c",
   "metadata": {},
   "source": [
    "# Importing Libraries"
   ]
  },
  {
   "cell_type": "code",
   "execution_count": 1,
   "id": "749c68bd",
   "metadata": {},
   "outputs": [],
   "source": [
    "import time\n",
    "import os\n",
    "import cv2 \n",
    "import numpy as np\n",
    "import pandas as pd\n",
    "from tqdm import tqdm\n",
    "import seaborn as sns\n",
    "import matplotlib.pylab as plt\n",
    "from sklearn.metrics import confusion_matrix, f1_score, accuracy_score, classification_report"
   ]
  },
  {
   "cell_type": "markdown",
   "id": "995447ec",
   "metadata": {},
   "source": [
    "# Loading Dataset"
   ]
  },
  {
   "cell_type": "code",
   "execution_count": 2,
   "id": "d6914350",
   "metadata": {},
   "outputs": [],
   "source": [
    "class_names = ['Benign cases','Malignant cases', 'Normal cases']\n",
    "class_names_label = {class_name:i for i, class_name in enumerate(class_names)}\n",
    "\n",
    "nb_classes = len(class_names)\n",
    "\n",
    "IMAGE_SIZE = (224, 224)"
   ]
  },
  {
   "cell_type": "code",
   "execution_count": 3,
   "id": "ca7ebc0e",
   "metadata": {},
   "outputs": [],
   "source": [
    "def load_data():\n",
    "  \n",
    "    datasets = ['train', 'test']\n",
    "    output = []    \n",
    "    for dataset in datasets:        \n",
    "        images = []\n",
    "        labels = []        \n",
    "        print(\"Loading {}\".format(dataset))\n",
    "        \n",
    "        \n",
    "        for folder in os.listdir(dataset):\n",
    "            label = class_names_label[folder]            \n",
    "            for file in tqdm(os.listdir(os.path.join(dataset, folder))):                \n",
    "                img_path = os.path.join(os.path.join(dataset, folder), file)                \n",
    "                image = cv2.imread(img_path)\n",
    "                image = cv2.resize(image, IMAGE_SIZE)                 \n",
    "                images.append(image)\n",
    "                labels.append(label)\n",
    "                \n",
    "        images = np.array(images, dtype = 'float32')\n",
    "        labels = np.array(labels, dtype = 'int32')   \n",
    "        \n",
    "        output.append((images, labels))\n",
    "        \n",
    "    return output"
   ]
  },
  {
   "cell_type": "code",
   "execution_count": 4,
   "id": "1cf1e89f",
   "metadata": {
    "scrolled": true
   },
   "outputs": [
    {
     "name": "stdout",
     "output_type": "stream",
     "text": [
      "Loading train\n"
     ]
    },
    {
     "name": "stderr",
     "output_type": "stream",
     "text": [
      "100%|██████████████████████████████████████████████████████████████████████████████████| 96/96 [00:00<00:00, 96.10it/s]\n",
      "100%|███████████████████████████████████████████████████████████████████████████████| 448/448 [00:04<00:00, 109.48it/s]\n",
      "100%|████████████████████████████████████████████████████████████████████████████████| 332/332 [00:03<00:00, 94.29it/s]\n"
     ]
    },
    {
     "name": "stdout",
     "output_type": "stream",
     "text": [
      "Loading test\n"
     ]
    },
    {
     "name": "stderr",
     "output_type": "stream",
     "text": [
      "100%|█████████████████████████████████████████████████████████████████████████████████| 24/24 [00:00<00:00, 127.56it/s]\n",
      "100%|███████████████████████████████████████████████████████████████████████████████| 113/113 [00:00<00:00, 137.47it/s]\n",
      "100%|█████████████████████████████████████████████████████████████████████████████████| 84/84 [00:00<00:00, 125.41it/s]\n"
     ]
    }
   ],
   "source": [
    "(train_images, train_labels), (test_images, test_labels) = load_data()"
   ]
  },
  {
   "cell_type": "markdown",
   "id": "a5fdb97a",
   "metadata": {},
   "source": [
    "# Shuffle Data "
   ]
  },
  {
   "cell_type": "code",
   "execution_count": 5,
   "id": "4ef55b82",
   "metadata": {},
   "outputs": [],
   "source": [
    "from sklearn.utils import shuffle \n",
    "train_images, train_labels = shuffle(train_images, train_labels, random_state=25)"
   ]
  },
  {
   "cell_type": "markdown",
   "id": "b2e99791",
   "metadata": {},
   "source": [
    "# Exploratory Data Analysis"
   ]
  },
  {
   "cell_type": "code",
   "execution_count": 6,
   "id": "545f3ec3",
   "metadata": {},
   "outputs": [
    {
     "name": "stdout",
     "output_type": "stream",
     "text": [
      "Number of training examples: 876\n",
      "Number of testing examples: 221\n",
      "Each image is of size: (224, 224)\n"
     ]
    }
   ],
   "source": [
    "n_train = train_labels.shape[0]\n",
    "n_test = test_labels.shape[0]\n",
    "\n",
    "print (\"Number of training examples: {}\".format(n_train))\n",
    "print (\"Number of testing examples: {}\".format(n_test))\n",
    "print (\"Each image is of size: {}\".format(IMAGE_SIZE))"
   ]
  },
  {
   "cell_type": "code",
   "execution_count": 7,
   "id": "7d278a4b",
   "metadata": {},
   "outputs": [
    {
     "data": {
      "image/png": "[encoded data removed]",
      "text/plain": [
       "<Figure size 432x288 with 1 Axes>"
      ]
     },
     "metadata": {
      "needs_background": "light"
     },
     "output_type": "display_data"
    }
   ],
   "source": [
    "_, train_counts = np.unique(train_labels, return_counts=True)\n",
    "_, test_counts = np.unique(test_labels, return_counts=True)\n",
    "\n",
    "pd.DataFrame({'train': train_counts,\n",
    "              'test': test_counts}, \n",
    "             index=class_names).plot.bar()\n",
    "\n",
    "plt.show()"
   ]
  },
  {
   "cell_type": "code",
   "execution_count": 8,
   "id": "b4ae70a8",
   "metadata": {},
   "outputs": [
    {
     "data": {
      "image/png": "[encoded data removed]",
      "text/plain": [
       "<Figure size 432x288 with 1 Axes>"
      ]
     },
     "metadata": {},
     "output_type": "display_data"
    }
   ],
   "source": [
    "plt.pie(train_counts,\n",
    "        explode=None, \n",
    "        labels=class_names,\n",
    "        autopct='%1.1f%%')\n",
    "\n",
    "plt.axis('equal')\n",
    "plt.title('Proportion of Each Observed Category')\n",
    "plt.show()"
   ]
  },
  {
   "cell_type": "markdown",
   "id": "f6e7e790",
   "metadata": {},
   "source": [
    "# Data Preprocessing"
   ]
  },
  {
   "cell_type": "code",
   "execution_count": 9,
   "id": "ff7cf062",
   "metadata": {},
   "outputs": [],
   "source": [
    "train_images = train_images / 255.0 \n",
    "test_images = test_images / 255.0"
   ]
  },
  {
   "cell_type": "markdown",
   "id": "5b1f13c1",
   "metadata": {},
   "source": [
    "### Make Data 1D for compatability with Standard Classifiers"
   ]
  },
  {
   "cell_type": "code",
   "execution_count": 10,
   "id": "45db4ef2",
   "metadata": {},
   "outputs": [],
   "source": [
    "X_trainShape = train_images.shape[1]*train_images.shape[2]*train_images.shape[3]\n",
    "X_testShape = test_images.shape[1]*test_images.shape[2]*test_images.shape[3]\n",
    "\n",
    "X_trainFlat = train_images.reshape(train_images.shape[0], X_trainShape)\n",
    "X_testFlat = test_images.reshape(test_images.shape[0], X_testShape)"
   ]
  },
  {
   "cell_type": "markdown",
   "id": "4bd00274",
   "metadata": {},
   "source": [
    "# Machine Learning Models"
   ]
  },
  {
   "cell_type": "markdown",
   "id": "1b0b6f8c",
   "metadata": {},
   "source": [
    "# Decision Tree"
   ]
  },
  {
   "cell_type": "code",
   "execution_count": 11,
   "id": "a2f01259",
   "metadata": {},
   "outputs": [],
   "source": [
    "from sklearn import tree"
   ]
  },
  {
   "cell_type": "code",
   "execution_count": 12,
   "id": "afabfef7",
   "metadata": {},
   "outputs": [
    {
     "name": "stdout",
     "output_type": "stream",
     "text": [
      "64.6523756980896 seconds\n"
     ]
    }
   ],
   "source": [
    "start_time = time.time()\n",
    "tree = tree.DecisionTreeClassifier()\n",
    "tree.fit(X_trainFlat, train_labels)\n",
    "print (time.time() - start_time, \"seconds\")"
   ]
  },
  {
   "cell_type": "code",
   "execution_count": 13,
   "id": "26b050fc",
   "metadata": {},
   "outputs": [],
   "source": [
    "y_pred1 = tree.predict(X_testFlat)"
   ]
  },
  {
   "cell_type": "code",
   "execution_count": 14,
   "id": "f258e4e9",
   "metadata": {},
   "outputs": [
    {
     "name": "stdout",
     "output_type": "stream",
     "text": [
      "Accuracy is: 88.68778280542986\n"
     ]
    }
   ],
   "source": [
    "from sklearn.metrics import accuracy_score\n",
    "accuracy = {accuracy_score(test_labels, y_pred1)}\n",
    "print(f\"Accuracy is: {accuracy_score(test_labels, y_pred1)* 100}\")"
   ]
  },
  {
   "cell_type": "code",
   "execution_count": 15,
   "id": "dd656143",
   "metadata": {},
   "outputs": [
    {
     "name": "stdout",
     "output_type": "stream",
     "text": [
      "\u001b[1mClassification report : \u001b[0m\n",
      "               precision    recall  f1-score   support\n",
      "\n",
      "           0       0.86      0.79      0.83        24\n",
      "           1       0.93      0.89      0.91       113\n",
      "           2       0.84      0.90      0.87        84\n",
      "\n",
      "    accuracy                           0.89       221\n",
      "   macro avg       0.88      0.86      0.87       221\n",
      "weighted avg       0.89      0.89      0.89       221\n",
      "\n",
      "\u001b[1mConfusion Matrix : \u001b[0m\n"
     ]
    },
    {
     "data": {
      "image/png": "[encoded data removed]",
      "text/plain": [
       "<Figure size 432x288 with 2 Axes>"
      ]
     },
     "metadata": {
      "needs_background": "light"
     },
     "output_type": "display_data"
    }
   ],
   "source": [
    "print('\\033[1m' +'Classification report : '+ '\\033[0m\\n', classification_report(test_labels, y_pred1))\n",
    "\n",
    "cm = confusion_matrix(y_pred1, test_labels)\n",
    "print('\\033[1m' +'Confusion Matrix : '+ '\\033[0m')\n",
    "sns.heatmap(cm, cmap = 'OrRd',annot = True, fmt='d')\n",
    "plt.show()"
   ]
  },
  {
   "cell_type": "markdown",
   "id": "cdae1fd3",
   "metadata": {},
   "source": [
    "# Evaluation -- Decision Tree"
   ]
  },
  {
   "cell_type": "code",
   "execution_count": 16,
   "id": "3f91c5e4",
   "metadata": {},
   "outputs": [
    {
     "name": "stdout",
     "output_type": "stream",
     "text": [
      "MAE: 0.13574660633484162\n",
      "MSE: 0.18099547511312217\n",
      "RMSE: 0.42543562981151706\n"
     ]
    }
   ],
   "source": [
    "from sklearn import metrics\n",
    "\n",
    "print('MAE:', metrics.mean_absolute_error(test_labels,y_pred1))\n",
    "print('MSE:', metrics.mean_squared_error(test_labels, y_pred1))\n",
    "print('RMSE:', np.sqrt(metrics.mean_squared_error(test_labels, y_pred1)))"
   ]
  },
  {
   "cell_type": "code",
   "execution_count": 17,
   "id": "6265e617",
   "metadata": {},
   "outputs": [
    {
     "name": "stdout",
     "output_type": "stream",
     "text": [
      "Precision Score :  0.8885385885925552\n",
      "Recall Score :  0.8868778280542986\n",
      "f1_score :  0.8869919326749734\n"
     ]
    }
   ],
   "source": [
    "from sklearn.metrics import precision_score\n",
    "print(\"Precision Score : \",precision_score(test_labels, y_pred1, average='weighted'))\n",
    "\n",
    "\n",
    "from sklearn.metrics import recall_score\n",
    "print(\"Recall Score : \",recall_score(test_labels, y_pred1,average='weighted'))\n",
    "\n",
    "\n",
    "from sklearn.metrics import f1_score\n",
    "print(\"f1_score : \",f1_score(test_labels, y_pred1,average='weighted'))"
   ]
  },
  {
   "cell_type": "code",
   "execution_count": null,
   "id": "dca03ebd",
   "metadata": {},
   "outputs": [],
   "source": []
  },
  {
   "cell_type": "code",
   "execution_count": null,
   "id": "4147a287",
   "metadata": {},
   "outputs": [],
   "source": []
  },
  {
   "cell_type": "code",
   "execution_count": null,
   "id": "58d760e8",
   "metadata": {},
   "outputs": [],
   "source": []
  }
 ],
 "metadata": {
  "kernelspec": {
   "display_name": "Python 3 (ipykernel)",
   "language": "python",
   "name": "python3"
  },
  "language_info": {
   "codemirror_mode": {
    "name": "ipython",
    "version": 3
   },
   "file_extension": ".py",
   "mimetype": "text/x-python",
   "name": "python",
   "nbconvert_exporter": "python",
   "pygments_lexer": "ipython3",
   "version": "3.8.12"
  }
 },
 "nbformat": 4,
 "nbformat_minor": 5
}
