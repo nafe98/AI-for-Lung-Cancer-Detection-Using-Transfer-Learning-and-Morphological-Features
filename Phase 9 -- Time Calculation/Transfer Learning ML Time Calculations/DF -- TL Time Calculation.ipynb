{
 "cells": [
  {
   "cell_type": "markdown",
   "id": "8aaab1ed",
   "metadata": {},
   "source": [
    "https://iq.opengenus.org/basics-of-machine-learning-image-classification-techniques/\n",
    "\n",
    "https://www.geeksforgeeks.org/python-image-classification-using-keras/\n",
    "\n",
    "https://www.analyticsvidhya.com/blog/2022/01/image-classification-using-machine-learning/\n",
    "\n",
    "https://github.com/hasabo/Machine-Learning/blob/master/Python/Image_Classification%20/Image_Classification.ipynb  "
   ]
  },
  {
   "cell_type": "markdown",
   "id": "6ae78a4c",
   "metadata": {},
   "source": [
    "# Importing Libraries"
   ]
  },
  {
   "cell_type": "code",
   "execution_count": 1,
   "id": "749c68bd",
   "metadata": {},
   "outputs": [],
   "source": [
    "import time\n",
    "import os\n",
    "import cv2 \n",
    "import numpy as np\n",
    "import pandas as pd\n",
    "from tqdm import tqdm\n",
    "import seaborn as sns\n",
    "import matplotlib.pylab as plt\n",
    "from sklearn.metrics import confusion_matrix, f1_score, accuracy_score, classification_report"
   ]
  },
  {
   "cell_type": "markdown",
   "id": "995447ec",
   "metadata": {},
   "source": [
    "# Loading Dataset"
   ]
  },
  {
   "cell_type": "code",
   "execution_count": 2,
   "id": "d6914350",
   "metadata": {},
   "outputs": [],
   "source": [
    "class_names = ['Benign cases','Malignant cases', 'Normal cases']\n",
    "class_names_label = {class_name:i for i, class_name in enumerate(class_names)}\n",
    "\n",
    "nb_classes = len(class_names)\n",
    "\n",
    "IMAGE_SIZE = (224, 224)"
   ]
  },
  {
   "cell_type": "code",
   "execution_count": 3,
   "id": "ca7ebc0e",
   "metadata": {},
   "outputs": [],
   "source": [
    "def load_data():\n",
    "  \n",
    "    datasets = ['train', 'test']\n",
    "    output = []    \n",
    "    for dataset in datasets:        \n",
    "        images = []\n",
    "        labels = []        \n",
    "        print(\"Loading {}\".format(dataset))\n",
    "        \n",
    "        \n",
    "        for folder in os.listdir(dataset):\n",
    "            label = class_names_label[folder]            \n",
    "            for file in tqdm(os.listdir(os.path.join(dataset, folder))):                \n",
    "                img_path = os.path.join(os.path.join(dataset, folder), file)                \n",
    "                image = cv2.imread(img_path)\n",
    "                image = cv2.resize(image, IMAGE_SIZE)                 \n",
    "                images.append(image)\n",
    "                labels.append(label)\n",
    "                \n",
    "        images = np.array(images, dtype = 'float32')\n",
    "        labels = np.array(labels, dtype = 'int32')   \n",
    "        \n",
    "        output.append((images, labels))\n",
    "        \n",
    "    return output"
   ]
  },
  {
   "cell_type": "code",
   "execution_count": 4,
   "id": "1cf1e89f",
   "metadata": {
    "scrolled": true
   },
   "outputs": [
    {
     "name": "stdout",
     "output_type": "stream",
     "text": [
      "Loading train\n"
     ]
    },
    {
     "name": "stderr",
     "output_type": "stream",
     "text": [
      "100%|█████████████████████████████████████████████████████████████████████████████████| 96/96 [00:00<00:00, 125.40it/s]\n",
      "100%|███████████████████████████████████████████████████████████████████████████████| 448/448 [00:03<00:00, 133.09it/s]\n",
      "100%|███████████████████████████████████████████████████████████████████████████████| 332/332 [00:02<00:00, 131.73it/s]\n"
     ]
    },
    {
     "name": "stdout",
     "output_type": "stream",
     "text": [
      "Loading test\n"
     ]
    },
    {
     "name": "stderr",
     "output_type": "stream",
     "text": [
      "100%|█████████████████████████████████████████████████████████████████████████████████| 24/24 [00:00<00:00, 128.93it/s]\n",
      "100%|███████████████████████████████████████████████████████████████████████████████| 113/113 [00:00<00:00, 141.34it/s]\n",
      "100%|█████████████████████████████████████████████████████████████████████████████████| 84/84 [00:00<00:00, 130.47it/s]\n"
     ]
    }
   ],
   "source": [
    "(train_images, train_labels), (test_images, test_labels) = load_data()"
   ]
  },
  {
   "cell_type": "markdown",
   "id": "a5fdb97a",
   "metadata": {},
   "source": [
    "# Shuffle Data "
   ]
  },
  {
   "cell_type": "code",
   "execution_count": 5,
   "id": "4ef55b82",
   "metadata": {},
   "outputs": [],
   "source": [
    "from sklearn.utils import shuffle \n",
    "train_images, train_labels = shuffle(train_images, train_labels, random_state=25)"
   ]
  },
  {
   "cell_type": "markdown",
   "id": "b2e99791",
   "metadata": {},
   "source": [
    "# Exploratory Data Analysis"
   ]
  },
  {
   "cell_type": "code",
   "execution_count": 6,
   "id": "545f3ec3",
   "metadata": {},
   "outputs": [
    {
     "name": "stdout",
     "output_type": "stream",
     "text": [
      "Number of training examples: 876\n",
      "Number of testing examples: 221\n",
      "Each image is of size: (224, 224)\n"
     ]
    }
   ],
   "source": [
    "n_train = train_labels.shape[0]\n",
    "n_test = test_labels.shape[0]\n",
    "\n",
    "print (\"Number of training examples: {}\".format(n_train))\n",
    "print (\"Number of testing examples: {}\".format(n_test))\n",
    "print (\"Each image is of size: {}\".format(IMAGE_SIZE))"
   ]
  },
  {
   "cell_type": "code",
   "execution_count": 7,
   "id": "7d278a4b",
   "metadata": {},
   "outputs": [
    {
     "data": {
      "image/png": "[encoded data removed]",
      "text/plain": [
       "<Figure size 432x288 with 1 Axes>"
      ]
     },
     "metadata": {
      "needs_background": "light"
     },
     "output_type": "display_data"
    }
   ],
   "source": [
    "_, train_counts = np.unique(train_labels, return_counts=True)\n",
    "_, test_counts = np.unique(test_labels, return_counts=True)\n",
    "\n",
    "pd.DataFrame({'train': train_counts,\n",
    "              'test': test_counts}, \n",
    "             index=class_names).plot.bar()\n",
    "\n",
    "plt.show()"
   ]
  },
  {
   "cell_type": "code",
   "execution_count": 8,
   "id": "b4ae70a8",
   "metadata": {},
   "outputs": [
    {
     "data": {
      "image/png": "[encoded data removed]",
      "text/plain": [
       "<Figure size 432x288 with 1 Axes>"
      ]
     },
     "metadata": {},
     "output_type": "display_data"
    }
   ],
   "source": [
    "plt.pie(train_counts,\n",
    "        explode=None, \n",
    "        labels=class_names,\n",
    "        autopct='%1.1f%%')\n",
    "\n",
    "plt.axis('equal')\n",
    "plt.title('Proportion of Each Observed Category')\n",
    "plt.show()"
   ]
  },
  {
   "cell_type": "markdown",
   "id": "f6e7e790",
   "metadata": {},
   "source": [
    "# Data Preprocessing"
   ]
  },
  {
   "cell_type": "code",
   "execution_count": 9,
   "id": "ff7cf062",
   "metadata": {},
   "outputs": [],
   "source": [
    "train_images = train_images / 255.0 \n",
    "test_images = test_images / 255.0"
   ]
  },
  {
   "cell_type": "markdown",
   "id": "ced1869e",
   "metadata": {},
   "source": [
    "# Transfer Learning Feature Extraction -- VGG16"
   ]
  },
  {
   "cell_type": "code",
   "execution_count": 10,
   "id": "461c3e31",
   "metadata": {},
   "outputs": [],
   "source": [
    "from keras.models import Model\n",
    "from keras.applications.vgg16 import VGG16\n",
    "from keras.preprocessing import image\n",
    "from keras.applications.vgg16 import preprocess_input\n",
    "from keras.layers import Input, Dense, Conv2D, Activation , MaxPooling2D, Flatten"
   ]
  },
  {
   "cell_type": "code",
   "execution_count": 11,
   "id": "5b5dd3ab",
   "metadata": {},
   "outputs": [],
   "source": [
    "model = VGG16(weights='imagenet', include_top=False)\n",
    "model = Model(inputs=model.inputs, outputs=model.layers[-5].output)"
   ]
  },
  {
   "cell_type": "code",
   "execution_count": 12,
   "id": "e16f6531",
   "metadata": {},
   "outputs": [],
   "source": [
    "train_features = model.predict(train_images)\n",
    "test_features = model.predict(test_images)"
   ]
  },
  {
   "cell_type": "markdown",
   "id": "5b1f13c1",
   "metadata": {},
   "source": [
    "### Make Data 1D for compatability with Standard Classifiers"
   ]
  },
  {
   "cell_type": "code",
   "execution_count": 13,
   "id": "45db4ef2",
   "metadata": {},
   "outputs": [],
   "source": [
    "X_trainShape = train_features.shape[1]*train_features.shape[2]*train_features.shape[3]\n",
    "X_testShape = test_features.shape[1]*test_features.shape[2]*test_features.shape[3]\n",
    "\n",
    "X_trainFlat = train_features.reshape(train_features.shape[0], X_trainShape)\n",
    "X_testFlat = test_features.reshape(test_features.shape[0], X_testShape)"
   ]
  },
  {
   "cell_type": "markdown",
   "id": "4bd00274",
   "metadata": {},
   "source": [
    "# Machine Learning Models"
   ]
  },
  {
   "cell_type": "markdown",
   "id": "1b0b6f8c",
   "metadata": {},
   "source": [
    "# Decision Tree"
   ]
  },
  {
   "cell_type": "code",
   "execution_count": 14,
   "id": "26efc6ca",
   "metadata": {},
   "outputs": [],
   "source": [
    "from sklearn import tree"
   ]
  },
  {
   "cell_type": "code",
   "execution_count": 15,
   "id": "afabfef7",
   "metadata": {},
   "outputs": [
    {
     "name": "stdout",
     "output_type": "stream",
     "text": [
      "20.476449251174927 seconds\n"
     ]
    }
   ],
   "source": [
    "start_time = time.time()\n",
    "tree = tree.DecisionTreeClassifier()\n",
    "tree.fit(X_trainFlat, train_labels)\n",
    "print (time.time() - start_time, \"seconds\")"
   ]
  },
  {
   "cell_type": "code",
   "execution_count": 16,
   "id": "26b050fc",
   "metadata": {},
   "outputs": [],
   "source": [
    "y_pred1 = tree.predict(X_testFlat)"
   ]
  },
  {
   "cell_type": "code",
   "execution_count": 17,
   "id": "f258e4e9",
   "metadata": {},
   "outputs": [
    {
     "name": "stdout",
     "output_type": "stream",
     "text": [
      "Accuracy is: 96.83257918552036\n"
     ]
    }
   ],
   "source": [
    "from sklearn.metrics import accuracy_score\n",
    "accuracy = {accuracy_score(test_labels, y_pred1)}\n",
    "print(f\"Accuracy is: {accuracy_score(test_labels, y_pred1)* 100}\")"
   ]
  },
  {
   "cell_type": "code",
   "execution_count": 18,
   "id": "dd656143",
   "metadata": {},
   "outputs": [
    {
     "name": "stdout",
     "output_type": "stream",
     "text": [
      "\u001b[1mClassification report : \u001b[0m\n",
      "               precision    recall  f1-score   support\n",
      "\n",
      "           0       0.88      0.96      0.92        24\n",
      "           1       0.99      0.96      0.98       113\n",
      "           2       0.96      0.98      0.97        84\n",
      "\n",
      "    accuracy                           0.97       221\n",
      "   macro avg       0.95      0.97      0.96       221\n",
      "weighted avg       0.97      0.97      0.97       221\n",
      "\n",
      "\u001b[1mConfusion Matrix : \u001b[0m\n"
     ]
    },
    {
     "data": {
      "image/png": "[encoded data removed]",
      "text/plain": [
       "<Figure size 432x288 with 2 Axes>"
      ]
     },
     "metadata": {
      "needs_background": "light"
     },
     "output_type": "display_data"
    }
   ],
   "source": [
    "print('\\033[1m' +'Classification report : '+ '\\033[0m\\n', classification_report(test_labels, y_pred1))\n",
    "\n",
    "cm = confusion_matrix(y_pred1, test_labels)\n",
    "print('\\033[1m' +'Confusion Matrix : '+ '\\033[0m')\n",
    "sns.heatmap(cm, cmap = 'OrRd',annot = True, fmt='d')\n",
    "plt.show()"
   ]
  },
  {
   "cell_type": "markdown",
   "id": "cdae1fd3",
   "metadata": {},
   "source": [
    "# Evaluation -- Decision Tree"
   ]
  },
  {
   "cell_type": "code",
   "execution_count": 19,
   "id": "3f91c5e4",
   "metadata": {},
   "outputs": [
    {
     "name": "stdout",
     "output_type": "stream",
     "text": [
      "MAE: 0.04072398190045249\n",
      "MSE: 0.058823529411764705\n",
      "RMSE: 0.24253562503633297\n"
     ]
    }
   ],
   "source": [
    "from sklearn import metrics\n",
    "\n",
    "print('MAE:', metrics.mean_absolute_error(test_labels,y_pred1))\n",
    "print('MSE:', metrics.mean_squared_error(test_labels, y_pred1))\n",
    "print('RMSE:', np.sqrt(metrics.mean_squared_error(test_labels, y_pred1)))"
   ]
  },
  {
   "cell_type": "code",
   "execution_count": 20,
   "id": "6265e617",
   "metadata": {},
   "outputs": [
    {
     "name": "stdout",
     "output_type": "stream",
     "text": [
      "Precision Score :  0.9694062924033646\n",
      "Recall Score :  0.9683257918552036\n",
      "f1_score :  0.9686025367077501\n"
     ]
    }
   ],
   "source": [
    "from sklearn.metrics import precision_score\n",
    "print(\"Precision Score : \",precision_score(test_labels, y_pred1, average='weighted'))\n",
    "\n",
    "\n",
    "from sklearn.metrics import recall_score\n",
    "print(\"Recall Score : \",recall_score(test_labels, y_pred1,average='weighted'))\n",
    "\n",
    "\n",
    "from sklearn.metrics import f1_score\n",
    "print(\"f1_score : \",f1_score(test_labels, y_pred1,average='weighted'))"
   ]
  },
  {
   "cell_type": "code",
   "execution_count": null,
   "id": "4147a287",
   "metadata": {},
   "outputs": [],
   "source": []
  },
  {
   "cell_type": "code",
   "execution_count": null,
   "id": "58d760e8",
   "metadata": {},
   "outputs": [],
   "source": []
  }
 ],
 "metadata": {
  "kernelspec": {
   "display_name": "Python 3 (ipykernel)",
   "language": "python",
   "name": "python3"
  },
  "language_info": {
   "codemirror_mode": {
    "name": "ipython",
    "version": 3
   },
   "file_extension": ".py",
   "mimetype": "text/x-python",
   "name": "python",
   "nbconvert_exporter": "python",
   "pygments_lexer": "ipython3",
   "version": "3.8.12"
  }
 },
 "nbformat": 4,
 "nbformat_minor": 5
}
